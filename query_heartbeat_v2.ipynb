{
 "cells": [
  {
   "cell_type": "code",
   "execution_count": 1,
   "metadata": {},
   "outputs": [],
   "source": [
    "import requests\n",
    "from urllib.request import urlopen\n",
    "from bs4 import BeautifulSoup\n",
    "import re\n",
    "import pandas as pd\n",
    "import numpy as np\n",
    "import matplotlib.dates as mdates\n",
    "import matplotlib.pyplot as plt\n",
    "from matplotlib.ticker import MultipleLocator\n",
    "from time import gmtime, strftime\n",
    "from datetime import timedelta\n",
    "\n",
    "def creatURL(idN, t):\n",
    "    string = \"http://ec2-54-175-179-28.compute-1.amazonaws.com/get_thinktron_data.php?device_id={}&year_month={}\".format(idN,t)\n",
    "    return string    \n",
    "\n",
    "def query_data(arg1):\n",
    "    r = requests.get(arg1) # URL path\n",
    "    soup = BeautifulSoup(r.text,'lxml')\n",
    "    a = list(soup.find_all('p'))\n",
    "\n",
    "    # Split the list through the regular expression\n",
    "    d = re.split('\\s+|,|<br/>|<p>|</p>',str(a))\n",
    "\n",
    "    # Remove the '' element from the list\n",
    "    d = list(filter(lambda zz: zz != '', d)) \n",
    "\n",
    "    # Remove the '=' element from the list\n",
    "    d = list(filter(lambda zz: zz != '=', d))\n",
    "\n",
    "    # Remove the '[' & ']' element from the list\n",
    "    try:\n",
    "        d.remove(']')\n",
    "        d.remove('[')\n",
    "    except:\n",
    "        pass\n",
    "    \n",
    "    return d\n",
    "\n",
    "def calculateOFFtime(d):\n",
    "    \n",
    "    if (\"No\" in d) & (\"results\" in d):\n",
    "        outputStr = \"Offline over 1 month\"\n",
    "\n",
    "    else:    \n",
    "    # Create a dataframe from the URL by data crawling\n",
    "        colName=['id', 'time', 'weather', 'air','acceleration','cleavage','incline','field1','field2','field3']\n",
    "        _Num = 0\n",
    "        _df  = pd.DataFrame(columns=colName)\n",
    "        df   = pd.DataFrame(columns=colName)\n",
    "\n",
    "        for ii in range(0,len(d)):    \n",
    "            while colName[_Num] in d[ii]:\n",
    "                _lst = d[ii + 1]\n",
    "                _lst = _lst.strip(',')\n",
    "\n",
    "                if _lst == '' or (_lst in colName):\n",
    "                    _lst = None       \n",
    "\n",
    "                _df[colName[_Num]] = [_lst] # Put the list into the dataframe\n",
    "                if _Num < (len(colName)-1):\n",
    "                    _Num += 1\n",
    "                else:\n",
    "                    df = df.append(_df, ignore_index=True)\n",
    "                    _Num = 0 \n",
    "\n",
    "        # Convert argument to a numeric type(float64 or int64)\n",
    "        #numericCol = ['roll', 'pitch', 'yaw','field1','field2','field3']\n",
    "        #for ii in numericCol:\n",
    "        #    df[ii] = pd.to_numeric(df[ii])\n",
    "\n",
    "        # Convert the format of date\n",
    "        dates = df.time\n",
    "        df.index = pd.to_datetime(dates.astype(str), format='%Y%m%d%H%M%S')\n",
    "        df.index.name = 'time'\n",
    "        del df['time']\n",
    "\n",
    "        # Check dataframe format\n",
    "        # df.info()\n",
    "\n",
    "        # Query the latest time stamp\n",
    "        lastestTimeStr = df.index[-1]\n",
    "\n",
    "        # Release the memory\n",
    "        del df\n",
    "\n",
    "        # Calculate the offline time\n",
    "        localTimeStamp = pd.to_datetime(strftime(\"%Y%m%d%H%M%S\"), format=\"%Y%m%d%H%M%S\")\n",
    "        deltaT = localTimeStamp - lastestTimeStr\n",
    "        alrTimeIntv = timedelta(minutes = 15)\n",
    "\n",
    "        if deltaT > alrTimeIntv:\n",
    "\n",
    "            deltaDay = deltaT.days\n",
    "            deltaHr  = deltaT.seconds // 3600\n",
    "            deltaMin = (deltaT.seconds % 3600) // 60\n",
    "            deltaSec = deltaT.seconds % 60\n",
    "\n",
    "            outputStr = \"Offline time: {} day, {} hr, {} min, {} sec\".format(deltaDay,deltaHr, deltaMin, deltaSec)\n",
    "        else:\n",
    "            outputStr = \"Online\"            \n",
    "    return outputStr"
   ]
  },
  {
   "cell_type": "code",
   "execution_count": 3,
   "metadata": {},
   "outputs": [
    {
     "name": "stdout",
     "output_type": "stream",
     "text": [
      "2015  Done.\n",
      "3015  Done.\n",
      "2011  Done.\n",
      "1007  Done.\n",
      "3014  Done.\n",
      "3001  Done.\n",
      "3029  Done.\n",
      "3028  Done.\n",
      "3022  Done.\n",
      "2005  Done.\n",
      "1005  Done.\n",
      "3019  Done.\n",
      "3021  Done.\n",
      "3023  Done.\n",
      "3016  Done.\n",
      "3025  Done.\n",
      "2009  Done.\n",
      "2010 Offline over 1 day\n",
      "2010  Done.\n",
      "1008 Offline over 1 day\n",
      "1008  Done.\n",
      "3017 Offline over 1 day\n",
      "3017  Done.\n",
      "3024  Done.\n",
      "3013 Offline over 1 day\n",
      "3013  Done.\n",
      "3020  Done.\n",
      "3018  Done.\n"
     ]
    }
   ],
   "source": [
    "location = \"NewTaipei\"\n",
    "#location = \"Taipei\"\n",
    "idNumList = []\n",
    "DBName =\"\"\n",
    "queryDate = strftime(\"%Y%m%d\")\n",
    "quertMonth = strftime(\"%Y%m\")\n",
    "now = strftime(\"%Y%m%d%H%M\")\n",
    "\n",
    "if (location.lower() == \"newtaipei\"):\n",
    "    idNumDict  = [{'name':'馥記山莊','id':'2015'}, # 0\n",
    "                  {'name':'秀岡第一','id':'3015'}, # 1\n",
    "                  {'name':'老爺山莊','id':'2011'}, # 2\n",
    "                  {'name':'老爺山莊','id':'1007'}, # 3\n",
    "                  {'name':'怡園社區','id':'3014'}, # 4\n",
    "                  {'name':'台北小城','id':'3001'}, # 5\n",
    "                  {'name':'秀岡陽光','id':'3029'}, # 6\n",
    "                  {'name':'薇多綠雅','id':'3028'}, # 7\n",
    "                  {'name':'達觀鎮B6','id':'3022'}, # 8\n",
    "                  {'name':'花園點二','id':'2005'}, # 9 \n",
    "                  {'name':'花園點二','id':'1005'},\n",
    "                  {'name':'達觀鎮A1','id':'3019'},\n",
    "                  {'name':'圓富華城','id':'3021'},              \n",
    "                  {'name':'淺水灣莊','id':'3023'},\n",
    "                  {'name':'詩畫大樓','id':'3016'},\n",
    "                  {'name':'伯爵晶鑽','id':'3025'},\n",
    "                  {'name':'花園點一','id':'2009'},\n",
    "                  {'name':'勘農別墅','id':'2010'},\n",
    "                  {'name':'勘農別墅','id':'1008'},\n",
    "                  {'name':'國家別墅','id':'3017'},\n",
    "                  {'name':'台北山城','id':'3024'},\n",
    "                  {'name':'歡喜居易','id':'3013'},\n",
    "                  {'name':'伯爵一期','id':'3020'},\n",
    "                  {'name':'迎旭山莊','id':'3018'}]\n",
    "    DBName = \"New Taipei\"\n",
    "elif (location.lower() == \"taipei\"):\n",
    "    idNumDict  = [{'name':'政大自強','id':'2007'},\n",
    "                  {'name':'政大山頂','id':'2001'},\n",
    "                  {'name':'政大山頂','id':'1001'},\n",
    "                  {'name':'中山北七','id':'2008'},\n",
    "                  {'name':'中山北七','id':'1003'},\n",
    "                  {'name':'公訓新牆','id':'2003'},\n",
    "                  {'name':'公訓舊牆','id':'2002'},\n",
    "                  {'name':'公訓舊牆','id':'1002'},\n",
    "                  {'name':'松德院北','id':'2021'},\n",
    "                  {'name':'松德院北','id':'6001'},\n",
    "                  {'name':'松德院北','id':'8001'},\n",
    "                  {'name':'松德院南','id':'2020'},              \n",
    "                  {'name':'松德院南','id':'6002'}]\n",
    "    DBName = \"Taipei\"\n",
    "else:\n",
    "    print(\"No such name.\")\n",
    "    \n",
    "    \n",
    "flag = 0\n",
    "for ii in range(len(idNumDict)):       \n",
    "    URLstr = creatURL(str(idNumDict[ii][\"id\"]),queryDate) # Format in (id_Num, yyyymm)\n",
    "    # print(\"Look at here:\" + URLstr)\n",
    "    qD = query_data(URLstr)\n",
    "    \n",
    "    if (\"No\" in qD) & (\"results\" in qD):\n",
    "        print(\"{} Offline over 1 day\".format(idNumDict[ii][\"id\"]))\n",
    "        URLstr = creatURL(str(idNumDict[ii][\"id\"]),quertMonth)\n",
    "        qD = query_data(URLstr)    \n",
    "    \n",
    "    writingStr = calculateOFFtime(qD)\n",
    "    \n",
    "    queryFid = \"{}_{}_hearbeatList.txt\".format(now, DBName)    \n",
    "    \n",
    "    if (flag == 0):\n",
    "        with open(queryFid, \"a\") as file:\n",
    "            file.write(\"-----Device heartbeat-----\")\n",
    "            file.write(\"\\n\")\n",
    "            file.write(\"Name of project: \" + DBName)\n",
    "            file.write(\"\\n\")\n",
    "            file.write(\"Query time: {}\".format(strftime(\"%Y/%m/%d %H:%M\")))\n",
    "            file.write(\"\\n\")\n",
    "            flag = 1   \n",
    "    with open(queryFid, \"a\") as file:\n",
    "        writing = \"{}    {}    {}\".format(idNumDict[ii][\"name\"],idNumDict[ii][\"id\"],writingStr)\n",
    "        file.write(writing)\n",
    "        file.write(\"\\n\")\n",
    "    print(str(idNumDict[ii][\"id\"]) + \"  Done.\")"
   ]
  },
  {
   "cell_type": "code",
   "execution_count": 22,
   "metadata": {},
   "outputs": [
    {
     "data": {
      "text/plain": [
       "'2010'"
      ]
     },
     "execution_count": 22,
     "metadata": {},
     "output_type": "execute_result"
    }
   ],
   "source": [
    "idNumDict[ii][\"id\"]"
   ]
  },
  {
   "cell_type": "code",
   "execution_count": 25,
   "metadata": {},
   "outputs": [
    {
     "data": {
      "text/plain": [
       "'http://ec2-54-175-179-28.compute-1.amazonaws.com/get_thinktron_data.php?device_id=17&year_month=201910'"
      ]
     },
     "execution_count": 25,
     "metadata": {},
     "output_type": "execute_result"
    }
   ],
   "source": [
    "URLstr"
   ]
  },
  {
   "cell_type": "code",
   "execution_count": 20,
   "metadata": {},
   "outputs": [
    {
     "data": {
      "text/plain": [
       "17"
      ]
     },
     "execution_count": 20,
     "metadata": {},
     "output_type": "execute_result"
    }
   ],
   "source": [
    "ii"
   ]
  },
  {
   "cell_type": "code",
   "execution_count": 11,
   "metadata": {},
   "outputs": [
    {
     "name": "stdout",
     "output_type": "stream",
     "text": [
      "-----Device heartbeat-----\n",
      "Name of project: New Taipei\n",
      "Query time: 2019/10/22 21:18\n",
      "ID: 2015    Online\n",
      "ID: 3015    Online\n",
      "ID: 2011    Online\n",
      "ID: 1007    Online\n",
      "ID: 3014    Online\n",
      "ID: 3001    Online\n",
      "ID: 3029    Online\n",
      "ID: 3028    Online\n",
      "ID: 3022    Online\n",
      "ID: 2005    Online\n",
      "ID: 1005    Online\n",
      "ID: 3019    Online\n",
      "ID: 3021    Online\n",
      "ID: 3023    Online\n",
      "ID: 3016    Online\n",
      "ID: 3025    Online\n",
      "ID: 2009    Online\n",
      "ID: 2010    Offline time: 5 day, 21 hr, 21 min, 15 sec\n",
      "ID: 1008    Offline time: 5 day, 21 hr, 22 min, 20 sec\n",
      "ID: 3017    Offline time: 5 day, 21 hr, 23 min, 36 sec\n",
      "ID: 3024    Online\n",
      "ID: 3013    Offline time: 19 day, 1 hr, 8 min, 7 sec\n",
      "ID: 3020    Online\n",
      "ID: 3018    Online\n",
      "\n"
     ]
    }
   ],
   "source": [
    "with open(queryFid,'r') as file:\n",
    "    print(file.read())"
   ]
  }
 ],
 "metadata": {
  "kernelspec": {
   "display_name": "Python 3",
   "language": "python",
   "name": "python3"
  },
  "language_info": {
   "codemirror_mode": {
    "name": "ipython",
    "version": 3
   },
   "file_extension": ".py",
   "mimetype": "text/x-python",
   "name": "python",
   "nbconvert_exporter": "python",
   "pygments_lexer": "ipython3",
   "version": "3.6.5"
  }
 },
 "nbformat": 4,
 "nbformat_minor": 2
}
